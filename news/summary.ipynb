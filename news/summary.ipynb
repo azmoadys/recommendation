{
 "cells": [
  {
   "cell_type": "code",
   "execution_count": 9,
   "metadata": {},
   "outputs": [],
   "source": [
    "#nltk\n",
    "from nltk.corpus import stopwords\n",
    "from nltk.stem import PorterStemmer\n",
    "from nltk.tokenize import word_tokenize, sent_tokenize\n",
    "#gensim\n",
    "from gensim.summarization.summarizer import summarize"
   ]
  },
  {
   "cell_type": "code",
   "execution_count": 10,
   "metadata": {},
   "outputs": [],
   "source": [
    "# test message\n",
    "raw_text = 'Those Who Are Resilient Stay In The Game Longer\\n“On the mountains of truth you can never climb in vain: either you will reach a point higher up today, or you will be training your powers so that you will be able to climb higher tomorrow.” — Friedrich Nietzsche\\nChallenges and setbacks are not meant to defeat you, but promote you. However, I realise after many years of defeats, it can crush your spirit and it is easier to give up than risk further setbacks and disappointments. Have you experienced this before? To be honest, I don’t have the answers. I can’t tell you what the right course of action is; only you will know. However, it’s important not to be discouraged by failure when pursuing a goal or a dream, since failure itself means different things to different people. To a person with a Fixed Mindset failure is a blow to their self-esteem, yet to a person with a Growth Mindset, it’s an opportunity to improve and find new ways to overcome their obstacles. Same failure, yet different responses. Who is right and who is wrong? Neither. Each person has a different mindset that decides their outcome. Those who are resilient stay in the game longer and draw on their inner means to succeed.\\nI’ve coached many clients who gave up after many years toiling away at their respective goal or dream. It was at that point their biggest breakthrough came. Perhaps all those years of perseverance finally paid off. It was the 19th Century’s minister Henry Ward Beecher who once said: “One’s best success comes after their greatest disappointments.” No one knows what the future holds, so your only guide is whether you can endure repeated defeats and disappointments and still pursue your dream. Consider the advice from the American academic and psychologist Angela Duckworth who writes in Grit: The Power of Passion and Perseverance: “Many of us, it seems, quit what we start far too early and far too often. Even more than the effort a gritty person puts in on a single day, what matters is that they wake up the next day, and the next, ready to get on that treadmill and keep going.”\\nI know one thing for certain: don’t settle for less than what you’re capable of, but strive for something bigger. Some of you reading this might identify with this message because it resonates with you on a deeper level. For others, at the end of their tether the message might be nothing more than a trivial pep talk. What I wish to convey irrespective of where you are in your journey is: NEVER settle for less. If you settle for less, you will receive less than you deserve and convince yourself you are justified to receive it.\\n“Two people on a precipice over Yosemite Valley” by Nathan Shipps on Unsplash\\nDevelop A Powerful Vision Of What You Want\\n“Your problem is to bridge the gap which exists between where you are now and the goal you intend to reach.” — Earl Nightingale\\nI recall a passage my father often used growing up in 1990s: “Don’t tell me your problems unless you’ve spent weeks trying to solve them yourself.” That advice has echoed in my mind for decades and became my motivator. Don’t leave it to other people or outside circumstances to motivate you because you will be let down every time. It must come from within you. Gnaw away at your problems until you solve them or find a solution. Problems are not stop signs, they are advising you that more work is required to overcome them. Most times, problems help you gain a skill or develop the resources to succeed later. So embrace your challenges and develop the grit to push past them instead of retreat in resignation. Where are you settling in your life right now? Could you be you playing for bigger stakes than you are? Are you willing to play bigger even if it means repeated failures and setbacks? You should ask yourself these questions to decide whether you’re willing to put yourself on the line or settle for less. And that’s fine if you’re content to receive less, as long as you’re not regretful later.If you have not achieved the success you deserve and are considering giving up, will you regret it in a few years or decades from now? Only you can answer that, but you should carve out time to discover your motivation for pursuing your goals. It’s a fact, if you don’t know what you want you’ll get what life hands you and it may not be in your best interest, affirms author Larry Weidel: “Winners know that if you don’t figure out what you want, you’ll get whatever life hands you.” The key is to develop a powerful vision of what you want and hold that image in your mind. Nurture it daily and give it life by taking purposeful action towards it.\\nVision + desire + dedication + patience + daily action leads to astonishing success. Are you willing to commit to this way of life or jump ship at the first sign of failure? I’m amused when I read questions written by millennials on Quora who ask how they can become rich and famous or the next Elon Musk. Success is a fickle and long game with highs and lows. Similarly, there are no assurances even if you’re an overnight sensation, to sustain it for long, particularly if you don’t have the mental and emotional means to endure it. This means you must rely on the one true constant in your favour: your personal development. The more you grow, the more you gain in terms of financial resources, status, success — simple. If you leave it to outside conditions to dictate your circumstances, you are rolling the dice on your future.So become intentional on what you want out of life. Commit to it. Nurture your dreams. Focus on your development and if you want to give up, know what’s involved before you take the plunge. Because I assure you, someone out there right now is working harder than you, reading more books, sleeping less and sacrificing all they have to realise their dreams and it may contest with yours. Don’t leave your dreams to chance.'"
   ]
  },
  {
   "cell_type": "code",
   "execution_count": 14,
   "metadata": {},
   "outputs": [
    {
     "name": "stdout",
     "output_type": "stream",
     "text": [
      "summary_tldk \n",
      "  To be honest, I don’t have the answers. I can’t tell you what the right course of action is; only you will know. However, it’s important not to be discouraged by failure when pursuing a goal or a dream, since failure itself means different things to different people. Same failure, yet different responses. Neither. If you settle for less, you will receive less than you deserve and convince yourself you are justified to receive it. Don’t leave it to other people or outside circumstances to motivate you because you will be let down every time. Problems are not stop signs, they are advising you that more work is required to overcome them. Most times, problems help you gain a skill or develop the resources to succeed later. You should ask yourself these questions to decide whether you’re willing to put yourself on the line or settle for less. Only you can answer that, but you should carve out time to discover your motivation for pursuing your goals. Commit to it. Nurture your dreams. Focus on your development and if you want to give up, know what’s involved before you take the plunge. Don’t leave your dreams to chance.\n",
      "\n",
      "summary_gensim \n",
      " However, it’s important not to be discouraged by failure when pursuing a goal or a dream, since failure itself means different things to different people.\n",
      "It was the 19th Century’s minister Henry Ward Beecher who once said: “One’s best success comes after their greatest disappointments.” No one knows what the future holds, so your only guide is whether you can endure repeated defeats and disappointments and still pursue your dream.\n",
      "I know one thing for certain: don’t settle for less than what you’re capable of, but strive for something bigger.\n",
      "Don’t leave it to other people or outside circumstances to motivate you because you will be let down every time.\n",
      "Are you willing to play bigger even if it means repeated failures and setbacks?\n"
     ]
    }
   ],
   "source": [
    "# NLTK 이용한 text summarisation\n",
    "\n",
    "class summary:\n",
    "    \n",
    "# https://anpigon.github.io/blog/dclick/@anpigon/-textrank-summariser-1540351206980/\n",
    "    def summary_gensim(self, text):\n",
    "        return summarize(raw_text, ratio=0.1)\n",
    "\n",
    "# https://becominghuman.ai/text-summarization-in-5-steps-using-nltk-65b21e352b65\n",
    "# Implementation from https://dev.to/davidisrawi/build-a-quick-summarizer-with-python-and-nltk\n",
    "\n",
    "    def _create_frequency_table(text_string) -> dict:\n",
    "        \"\"\"\n",
    "        we create a dictionary for the word frequency table.\n",
    "        For this, we should only use the words that are not part of the stopWords array.\n",
    "        Removing stop words and making frequency table\n",
    "        Stemmer - an algorithm to bring words to its root word.\n",
    "        :rtype: dict\n",
    "        \"\"\"\n",
    "        stopWords = set(stopwords.words(\"english\"))\n",
    "        words = word_tokenize(text_string)\n",
    "        ps = PorterStemmer()\n",
    "\n",
    "        freqTable = dict()\n",
    "        for word in words:\n",
    "            word = ps.stem(word)\n",
    "            if word in stopWords:\n",
    "                continue\n",
    "            if word in freqTable:\n",
    "                freqTable[word] += 1\n",
    "            else:\n",
    "                freqTable[word] = 1\n",
    "\n",
    "        return freqTable\n",
    "\n",
    "\n",
    "    def _score_sentences(sentences, freqTable) -> dict:\n",
    "        \"\"\"\n",
    "        score a sentence by its words\n",
    "        Basic algorithm: adding the frequency of every non-stop word in a sentence divided by total no of words in a sentence.\n",
    "        :rtype: dict\n",
    "        \"\"\"\n",
    "\n",
    "        sentenceValue = dict()\n",
    "\n",
    "        for sentence in sentences:\n",
    "            word_count_in_sentence = (len(word_tokenize(sentence)))\n",
    "            word_count_in_sentence_except_stop_words = 0\n",
    "            for wordValue in freqTable:\n",
    "                if wordValue in sentence.lower():\n",
    "                    word_count_in_sentence_except_stop_words += 1\n",
    "                    if sentence[:10] in sentenceValue:\n",
    "                        sentenceValue[sentence[:10]] += freqTable[wordValue]\n",
    "                    else:\n",
    "                        sentenceValue[sentence[:10]] = freqTable[wordValue]\n",
    "\n",
    "            if sentence[:10] in sentenceValue:\n",
    "                sentenceValue[sentence[:10]] = sentenceValue[sentence[:10]] / word_count_in_sentence_except_stop_words\n",
    "\n",
    "            '''\n",
    "            Notice that a potential issue with our score algorithm is that long sentences will have an advantage over short sentences. \n",
    "            To solve this, we're dividing every sentence score by the number of words in the sentence.\n",
    "\n",
    "            Note that here sentence[:10] is the first 10 character of any sentence, this is to save memory while saving keys of\n",
    "            the dictionary.\n",
    "            '''\n",
    "\n",
    "        return sentenceValue\n",
    "\n",
    "\n",
    "    def _find_average_score(sentenceValue) -> int:\n",
    "        \"\"\"\n",
    "        Find the average score from the sentence value dictionary\n",
    "        :rtype: int\n",
    "        \"\"\"\n",
    "        sumValues = 0\n",
    "        for entry in sentenceValue:\n",
    "            sumValues += sentenceValue[entry]\n",
    "\n",
    "        # Average value of a sentence from original text\n",
    "        average = (sumValues / len(sentenceValue))\n",
    "\n",
    "        return average\n",
    "\n",
    "\n",
    "    def _generate_summary(sentences, sentenceValue, threshold):\n",
    "        sentence_count = 0\n",
    "        summary = ''\n",
    "\n",
    "        for sentence in sentences:\n",
    "            if sentence[:10] in sentenceValue and sentenceValue[sentence[:10]] >= (threshold):\n",
    "                summary += \" \" + sentence\n",
    "                sentence_count += 1\n",
    "\n",
    "        return summary\n",
    "\n",
    "\n",
    "    def summary_tldk(self, text):\n",
    "        # 1 Create the word frequency table\n",
    "        freq_table = _create_frequency_table(text)\n",
    "\n",
    "        '''\n",
    "        We already have a sentence tokenizer, so we just need \n",
    "        to run the sent_tokenize() method to create the array of sentences.\n",
    "        '''\n",
    "\n",
    "        # 2 Tokenize the sentences\n",
    "        sentences = sent_tokenize(text)\n",
    "\n",
    "        # 3 Important Algorithm: score the sentences\n",
    "        sentence_scores = _score_sentences(sentences, freq_table)\n",
    "\n",
    "        # 4 Find the threshold\n",
    "        threshold = _find_average_score(sentence_scores)\n",
    "\n",
    "        # 5 Important Algorithm: Generate the summary\n",
    "        summary = _generate_summary(sentences, sentence_scores, 1.1 * threshold)\n",
    "\n",
    "        return summary\n",
    "\n",
    "\n",
    "if __name__ == '__main__':\n",
    "    a = summary()\n",
    "    print('summary_tldk \\n', a.summary_tldk(raw_text))\n",
    "    print()\n",
    "    print('summary_gensim \\n', a.summary_gensim(raw_text))"
   ]
  },
  {
   "cell_type": "markdown",
   "metadata": {},
   "source": [
    "### Summary w. gensim"
   ]
  },
  {
   "cell_type": "code",
   "execution_count": 12,
   "metadata": {},
   "outputs": [
    {
     "name": "stdout",
     "output_type": "stream",
     "text": [
      "A woman who says she is “Victim-1” in the New York indictment against deceased sex offender Jeffrey Epstein filed suit against the executors of his estate Wednesday, saying he abused her for three years beginning when she was a 14-year-old struggling to find a way to help her family pay rent.\n",
      "The suit, filed in federal court in Manhattan, offers new details about Epstein’s interactions with Victim-1, including specifics of the alleged crimes, and how her personal situation made her an easier target.\n",
      "Around that time, an older girl took her to Epstein’s mansion on Manhattan’s Upper East Side, where he would pay her hundreds of dollars for massages that gradually escalated into sex acts with Epstein and others, according to the suit.\n"
     ]
    }
   ],
   "source": [
    "#print(summary_gensim)"
   ]
  },
  {
   "cell_type": "markdown",
   "metadata": {},
   "source": [
    "### summary w. tldk"
   ]
  },
  {
   "cell_type": "code",
   "execution_count": 13,
   "metadata": {},
   "outputs": [
    {
     "name": "stdout",
     "output_type": "stream",
     "text": [
      " His accusers have focused, in particular, on Ghislaine Maxwell, a longtime associate of Epstein’s, and other members of his staff. [Epstein’s accusers call her his protector and procurer. A number of other alleged victims of Epstein’s abuse are suing or plan to sue Epstein’s estate, which is valued at more than $577 million. He paid the girls hundreds of dollars for each visit, his victims have said. About a month after his arrest, Epstein was found dead in his cell at the Metropolitan Correctional Center in Lower Manhattan. The charges he was facing carried a potential prison sentence of up to 45 years, and the city’s medical examiner ruled the death a suicide, saying Epstein hanged himself. Epstein’s lawyers have not accepted that finding, saying they are conducting their own investigation. Epstein had pleaded not guilty to the sex trafficking charges.\n"
     ]
    }
   ],
   "source": [
    "#print(summary_tldk)"
   ]
  },
  {
   "cell_type": "markdown",
   "metadata": {},
   "source": [
    "## Google translate"
   ]
  },
  {
   "cell_type": "code",
   "execution_count": 14,
   "metadata": {},
   "outputs": [],
   "source": [
    "#from googletrans import Translator\n",
    "\n",
    "#translator = Translator()\n",
    "#trans_gensim = translator.translate(summary_gensim, dest='ko').text\n",
    "#trans_tldk = translator.translate(summary_tldk, dest = 'ko').text"
   ]
  },
  {
   "cell_type": "code",
   "execution_count": 15,
   "metadata": {},
   "outputs": [
    {
     "name": "stdout",
     "output_type": "stream",
     "text": [
      "그녀가 14 세의 투쟁 때 그는 3 년부터 그녀를 학대 말, 그녀는 \"피해자-1\"사망 한 성범죄자 제프리 엡스타인에 대한 뉴욕 기소에 수요일 그의 재산의 집행에 대해 소송을 제기 말한다 여자 그녀의 가족 지불 임대료를 도울 수있는 방법을 찾을 수 있습니다.\n",
      "맨하탄 연방 법원에 제기 된이 소송 혐의 범죄의 세부 사항을 포함하여 피해자-1 엡스타인의 상호 작용에 대한 새로운 정보를 제공하고, 그녀의 개인 상황은 그녀의 쉬운 표적 만든 방법에 대해 설명합니다.\n",
      "그 무렵, 이전 소녀는 소송에 따르면, 그는 점차 엡스타인과 다른 사람과의 성행위에 에스컬레이션 마사지에 대한 달러의 그녀의 수백을 지불 할 것 맨해튼의 어퍼 이스트 사이드에 엡스타인의 저택에 그녀를했다.\n"
     ]
    }
   ],
   "source": [
    "#print(trans_gensim)"
   ]
  },
  {
   "cell_type": "code",
   "execution_count": 16,
   "metadata": {},
   "outputs": [
    {
     "name": "stdout",
     "output_type": "stream",
     "text": [
      "그의 고소는 기즐 레인 맥스웰, 엡스타인의 오랜 동료, 그의 직원의 다른 구성원에 특히 초점을 맞추고있다. [엡스타인의 고소 그녀는 자신의 보호와 획득자 호출합니다. 엡스타인의 학대의 다른 혐의 희생자의 수는 고소 또는 이상의 $ (577) 백만 가치가 엡스타인의 재산을 고소 할 계획을하고 있습니다. 그는 각 방문에 대한 달러의 소녀 수백 지불, 피해자는 말했다. 체포 후 약 한달, 엡스타인은 맨하탄에있는 메트로폴리탄 교정 센터에서 자신의 셀에서 죽은 채 발견되었다. 그가 직면 된 비용은 최대 45 년의 잠재적 실형을 실시하고, 도시의 검시관은 엡스타인이 자신을 교수형 말, 죽음을 자살 지배했다. 엡스타인의 변호사들은 자신의 조사를 실시하고 말하고, 그 연구 결과를 인정하지 않았습니다. 엡스타인은 성매매 혐의에 무죄를 주장했다.\n"
     ]
    }
   ],
   "source": [
    "#print(trans_tldk)"
   ]
  },
  {
   "cell_type": "markdown",
   "metadata": {},
   "source": [
    "#### trans_tldk"
   ]
  },
  {
   "cell_type": "code",
   "execution_count": null,
   "metadata": {},
   "outputs": [],
   "source": []
  },
  {
   "cell_type": "code",
   "execution_count": null,
   "metadata": {},
   "outputs": [],
   "source": []
  },
  {
   "cell_type": "code",
   "execution_count": null,
   "metadata": {},
   "outputs": [],
   "source": []
  }
 ],
 "metadata": {
  "kernelspec": {
   "display_name": "Python [conda env:azmo_dev] *",
   "language": "python",
   "name": "conda-env-azmo_dev-py"
  },
  "language_info": {
   "codemirror_mode": {
    "name": "ipython",
    "version": 3
   },
   "file_extension": ".py",
   "mimetype": "text/x-python",
   "name": "python",
   "nbconvert_exporter": "python",
   "pygments_lexer": "ipython3",
   "version": "3.6.8"
  }
 },
 "nbformat": 4,
 "nbformat_minor": 2
}
