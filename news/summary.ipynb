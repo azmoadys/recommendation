{
 "cells": [
  {
   "cell_type": "markdown",
   "metadata": {},
   "source": [
    "## 세계 주요 일간지\n",
    "\n",
    "### 미국/USA\n",
    "- [뉴욕타임즈/The Newyork Times](https://www.nytimes.com/)\n",
    "- [워싱턴포스트/The Washington Post](https://www.washingtonpost.com/)\n",
    "- [월스트리트저널/The Wallstreet Journal](https://www.wsj.com/)\n",
    "- [유에스에이투데이/USA Today](https://www.usatoday.com/)\n",
    "\n",
    "### 일본/日本\n",
    "- [요미우리신문/読売新聞](http://www.yomiuri.co.jp)\n",
    "- [아사히신문/朝日新聞](http://www.asahi.com)\n",
    "- [마이니치신문/毎日新聞](http://www.mainichi.co.jp)\n",
    "- [니혼케이자이신문/日本経済新聞](http://www.nikkei.co.jp)\n",
    "- [산케이신문/産経新聞](http://www.sankei.co.jp)\n",
    "\n",
    "### 프랑스/français\n",
    "- [르몽드/Le Monde](https://www.lemonde.fr/)\n",
    "- 르 피가로\n",
    "- 리베라시옹\n",
    "\n",
    "### 영국/UK\n",
    "- 더 타임즈\n",
    "- 가디언\n",
    "- 인디펜던트\n",
    "- 데일리텔레그래프\n",
    "- 더썬\n",
    "\n",
    "### 독일/Deutschland\n",
    "- [쥐트도이체 차이퉁/Süddeutsche Zeitung](http://www.sueddeutsche.de)\n",
    "- [프랑크푸르터 알게마이네 차이퉁/Frankfurter Allgemeine Zeitiung(FAZ)](http://www.faz.net/aktuell/)\n",
    "- [디 벨트/Die Welt](https://www.welt.de)"
   ]
  },
  {
   "cell_type": "code",
   "execution_count": 1,
   "metadata": {},
   "outputs": [],
   "source": [
    "# Test w. WP\n",
    "import requests\n",
    "from bs4 import BeautifulSoup\n",
    "from selenium import webdriver\n",
    "import openpyxl\n",
    "from time import sleep\n",
    "import ssl\n",
    "ssl._create_default_https_context = ssl._create_unverified_context\n",
    "#nltk\n",
    "from nltk.corpus import stopwords\n",
    "from nltk.stem import PorterStemmer\n",
    "from nltk.tokenize import word_tokenize, sent_tokenize\n",
    "#gensim\n",
    "from gensim.summarization.summarizer import summarize\n"
   ]
  },
  {
   "cell_type": "code",
   "execution_count": 79,
   "metadata": {},
   "outputs": [],
   "source": [
    "# raw text crawling\n",
    "\n",
    "options = webdriver.ChromeOptions()\n",
    "options.add_argument('headless')\n",
    "options.add_argument('window-size=1920x1080')\n",
    "options.add_argument(\"disable-gpu\")\n",
    "# 혹은 options.add_argument(\"--disable-gpu\")\n",
    "options.add_argument(\"user-agent=Mozilla/5.0 (Macintosh; Intel Mac OS X 10_12_6) AppleWebKit/537.36 (KHTML, like Gecko) Chrome/61.0.3163.100 Safari/537.36\")\n",
    "driver = webdriver.Chrome(\"/Users/azmosady/Desktop/chromedriver\", chrome_options=options)\n",
    "\n",
    "url = 'https://www.washingtonpost.com/national-security/jeffrey-epsteins-alleged-abuse-of-teenage-girl-detailed-in-lawsuit-against-his-estate-executors/2019/09/18/d241654c-da1f-11e9-ac63-3016711543fe_story.html'\n",
    "driver.get(url)\n",
    "sleep(3)\n",
    "contents = driver.find_elements_by_css_selector(\"article.paywall > p\")\n",
    "raw_text = ''\n",
    "for content in contents:\n",
    "    if content.text != ' Read more ':\n",
    "        raw_text += content.text+'\\n'\n",
    "    else:\n",
    "        break\n",
    "driver.close()\n",
    "\n",
    "# headline h1 a, h2 a,\n",
    "# 기사 본문 article.paywall > p\n"
   ]
  },
  {
   "cell_type": "code",
   "execution_count": 81,
   "metadata": {},
   "outputs": [
    {
     "name": "stdout",
     "output_type": "stream",
     "text": [
      "A woman who says she is “Victim-1” in the New York indictment against deceased sex offender Jeffrey Epstein filed suit against the executors of his estate Wednesday, saying he abused her for three years beginning when she was a 14-year-old girl struggling to find a way to help her family pay rent.\n",
      "The suit, filed in federal court in Manhattan, offers new details about Epstein’s interactions with Victim-1, including specifics of the alleged crimes, and how her personal situation made her an easier target. The lawsuit was filed by the woman’s lawyer, Roberta A. Kaplan.\n",
      "[Read the complaint: Jane Doe v. Darren K. Indyke and Richard D. Kahn, in their capacities as the executors of the estate of Jeffrey E. Epstein]\n",
      "In court papers identifying her as “Jane Doe,” she alleges Epstein recruited her to engage in sex acts in 2002, at a time when she was “in serious financial straits.”\n",
      "Her sister was sick, and the family had so little money that the girl was forced to move out, staying with “a rotating cast of friends and took odd jobs after school to try to help her family pay rent,” according to the suit.\n",
      "Around that time, an older girl brought her to Epstein’s mansion on Manhattan’s Upper East Side, where he would pay her hundreds of dollars for massages that gradually escalated into sex acts with Epstein and others, according to the suit.\n",
      "The abuse continued until she was 17, and she was sexually assaulted “countless times” in those three years, the lawsuit charges.\n",
      "[Judge drops Epstein charges after his death]\n",
      "She also alleges that she was sexually assaulted by another Epstein employee. The lawsuit says she was brought into a bedroom with an adult woman she did not know and that, together, they engaged in sex acts with Epstein. The lawsuit also asserts that Victim-1 was frequently paid for her time with Epstein by two of his assistants.\n",
      "Prosecutors have said they continue to investigate whether anyone connected to Epstein should be charged as co-conspirators. His accusers have focused, in particular, on Ghislaine Maxwell, Epstein’s longtime associate, and other members of his staff.\n",
      "[Epstein’s accusers call her his protector and procurer. Is Ghislaine Maxwell now prosecutors’ target?]\n",
      "The woman identified as Victim-1 still suffers from “severe mental anguish because of Epstein’s abuse,” the lawsuit said, noting she never finished high school, and her “physical and emotional injuries impact her daily functioning, making it difficult to go to work and take care of her young daughter and her ailing mother.”\n",
      "The suit was filed against Darren K. Indyke and Richard D. Kahn, Epstein’s longtime lawyers who were named in his will as executors of his estate. A number of other alleged victims of Epstein’s abuse are suing or plan to sue Epstein’s estate, which is valued at more than $577 million.\n",
      "The lawsuit filed Wednesday does not specify how much money Victim-1 is seeking in damages.\n",
      "[At least 8 jail officials knew Epstein was not to be left alone in his cell]\n",
      "Epstein, 66, was arrested in July when he arrived in New Jersey on a private jet. The sex trafficking charges filed against him were similar to ones in Florida that had been settled with a plea deal in 2008 that has since been criticized as alarmingly lenient. Prosecutors say Epstein recruited dozens of teenage girls to come to his homes and give him massages that frequently escalated to sex acts. He paid the girls hundreds of dollars for each visit, his victims have said.\n",
      "About a month after his arrest, Epstein was found dead in his cell at the Metropolitan Correctional Center in Lower Manhattan. The charges he was facing carried a potential prison sentence of up to 45 years, and the city’s medical examiner has ruled his death a suicide, saying he hanged himself. Epstein’s lawyers have not accepted that finding, saying they are conducting their own investigation. Before he died, Epstein had pleaded not guilty to the sex trafficking charges.\n",
      "The FBI and Justice Department are investigating the circumstances of his death to see if there were any crimes committed as part of the Bureau of Prisons’ failures to keep Epstein alive while he was awaiting trial.\n",
      "\n"
     ]
    }
   ],
   "source": [
    "print(raw_text)"
   ]
  },
  {
   "cell_type": "code",
   "execution_count": 82,
   "metadata": {},
   "outputs": [],
   "source": [
    "# https://anpigon.github.io/blog/dclick/@anpigon/-textrank-summariser-1540351206980/\n",
    "summary_gensim = summarize(raw_text, ratio=0.1)"
   ]
  },
  {
   "cell_type": "code",
   "execution_count": 93,
   "metadata": {},
   "outputs": [],
   "source": [
    "# test message\n",
    "#raw_text = 'Those Who Are Resilient Stay In The Game Longer\\n“On the mountains of truth you can never climb in vain: either you will reach a point higher up today, or you will be training your powers so that you will be able to climb higher tomorrow.” — Friedrich Nietzsche\\nChallenges and setbacks are not meant to defeat you, but promote you. However, I realise after many years of defeats, it can crush your spirit and it is easier to give up than risk further setbacks and disappointments. Have you experienced this before? To be honest, I don’t have the answers. I can’t tell you what the right course of action is; only you will know. However, it’s important not to be discouraged by failure when pursuing a goal or a dream, since failure itself means different things to different people. To a person with a Fixed Mindset failure is a blow to their self-esteem, yet to a person with a Growth Mindset, it’s an opportunity to improve and find new ways to overcome their obstacles. Same failure, yet different responses. Who is right and who is wrong? Neither. Each person has a different mindset that decides their outcome. Those who are resilient stay in the game longer and draw on their inner means to succeed.\\nI’ve coached many clients who gave up after many years toiling away at their respective goal or dream. It was at that point their biggest breakthrough came. Perhaps all those years of perseverance finally paid off. It was the 19th Century’s minister Henry Ward Beecher who once said: “One’s best success comes after their greatest disappointments.” No one knows what the future holds, so your only guide is whether you can endure repeated defeats and disappointments and still pursue your dream. Consider the advice from the American academic and psychologist Angela Duckworth who writes in Grit: The Power of Passion and Perseverance: “Many of us, it seems, quit what we start far too early and far too often. Even more than the effort a gritty person puts in on a single day, what matters is that they wake up the next day, and the next, ready to get on that treadmill and keep going.”\\nI know one thing for certain: don’t settle for less than what you’re capable of, but strive for something bigger. Some of you reading this might identify with this message because it resonates with you on a deeper level. For others, at the end of their tether the message might be nothing more than a trivial pep talk. What I wish to convey irrespective of where you are in your journey is: NEVER settle for less. If you settle for less, you will receive less than you deserve and convince yourself you are justified to receive it.\\n“Two people on a precipice over Yosemite Valley” by Nathan Shipps on Unsplash\\nDevelop A Powerful Vision Of What You Want\\n“Your problem is to bridge the gap which exists between where you are now and the goal you intend to reach.” — Earl Nightingale\\nI recall a passage my father often used growing up in 1990s: “Don’t tell me your problems unless you’ve spent weeks trying to solve them yourself.” That advice has echoed in my mind for decades and became my motivator. Don’t leave it to other people or outside circumstances to motivate you because you will be let down every time. It must come from within you. Gnaw away at your problems until you solve them or find a solution. Problems are not stop signs, they are advising you that more work is required to overcome them. Most times, problems help you gain a skill or develop the resources to succeed later. So embrace your challenges and develop the grit to push past them instead of retreat in resignation. Where are you settling in your life right now? Could you be you playing for bigger stakes than you are? Are you willing to play bigger even if it means repeated failures and setbacks? You should ask yourself these questions to decide whether you’re willing to put yourself on the line or settle for less. And that’s fine if you’re content to receive less, as long as you’re not regretful later.If you have not achieved the success you deserve and are considering giving up, will you regret it in a few years or decades from now? Only you can answer that, but you should carve out time to discover your motivation for pursuing your goals. It’s a fact, if you don’t know what you want you’ll get what life hands you and it may not be in your best interest, affirms author Larry Weidel: “Winners know that if you don’t figure out what you want, you’ll get whatever life hands you.” The key is to develop a powerful vision of what you want and hold that image in your mind. Nurture it daily and give it life by taking purposeful action towards it.\\nVision + desire + dedication + patience + daily action leads to astonishing success. Are you willing to commit to this way of life or jump ship at the first sign of failure? I’m amused when I read questions written by millennials on Quora who ask how they can become rich and famous or the next Elon Musk. Success is a fickle and long game with highs and lows. Similarly, there are no assurances even if you’re an overnight sensation, to sustain it for long, particularly if you don’t have the mental and emotional means to endure it. This means you must rely on the one true constant in your favour: your personal development. The more you grow, the more you gain in terms of financial resources, status, success — simple. If you leave it to outside conditions to dictate your circumstances, you are rolling the dice on your future.So become intentional on what you want out of life. Commit to it. Nurture your dreams. Focus on your development and if you want to give up, know what’s involved before you take the plunge. Because I assure you, someone out there right now is working harder than you, reading more books, sleeping less and sacrificing all they have to realise their dreams and it may contest with yours. Don’t leave your dreams to chance.'"
   ]
  },
  {
   "cell_type": "code",
   "execution_count": 97,
   "metadata": {},
   "outputs": [],
   "source": [
    "# NLTK 이용한 text summarisation\n",
    "# https://becominghuman.ai/text-summarization-in-5-steps-using-nltk-65b21e352b65\n",
    "# Implementation from https://dev.to/davidisrawi/build-a-quick-summarizer-with-python-and-nltk\n",
    "\n",
    "class nltk_summary:\n",
    "    def _create_frequency_table(text_string) -> dict:\n",
    "        \"\"\"\n",
    "        we create a dictionary for the word frequency table.\n",
    "        For this, we should only use the words that are not part of the stopWords array.\n",
    "        Removing stop words and making frequency table\n",
    "        Stemmer - an algorithm to bring words to its root word.\n",
    "        :rtype: dict\n",
    "        \"\"\"\n",
    "        stopWords = set(stopwords.words(\"english\"))\n",
    "        words = word_tokenize(text_string)\n",
    "        ps = PorterStemmer()\n",
    "\n",
    "        freqTable = dict()\n",
    "        for word in words:\n",
    "            word = ps.stem(word)\n",
    "            if word in stopWords:\n",
    "                continue\n",
    "            if word in freqTable:\n",
    "                freqTable[word] += 1\n",
    "            else:\n",
    "                freqTable[word] = 1\n",
    "\n",
    "        return freqTable\n",
    "\n",
    "\n",
    "    def _score_sentences(sentences, freqTable) -> dict:\n",
    "        \"\"\"\n",
    "        score a sentence by its words\n",
    "        Basic algorithm: adding the frequency of every non-stop word in a sentence divided by total no of words in a sentence.\n",
    "        :rtype: dict\n",
    "        \"\"\"\n",
    "\n",
    "        sentenceValue = dict()\n",
    "\n",
    "        for sentence in sentences:\n",
    "            word_count_in_sentence = (len(word_tokenize(sentence)))\n",
    "            word_count_in_sentence_except_stop_words = 0\n",
    "            for wordValue in freqTable:\n",
    "                if wordValue in sentence.lower():\n",
    "                    word_count_in_sentence_except_stop_words += 1\n",
    "                    if sentence[:10] in sentenceValue:\n",
    "                        sentenceValue[sentence[:10]] += freqTable[wordValue]\n",
    "                    else:\n",
    "                        sentenceValue[sentence[:10]] = freqTable[wordValue]\n",
    "\n",
    "            if sentence[:10] in sentenceValue:\n",
    "                sentenceValue[sentence[:10]] = sentenceValue[sentence[:10]] / word_count_in_sentence_except_stop_words\n",
    "\n",
    "            '''\n",
    "            Notice that a potential issue with our score algorithm is that long sentences will have an advantage over short sentences. \n",
    "            To solve this, we're dividing every sentence score by the number of words in the sentence.\n",
    "\n",
    "            Note that here sentence[:10] is the first 10 character of any sentence, this is to save memory while saving keys of\n",
    "            the dictionary.\n",
    "            '''\n",
    "\n",
    "        return sentenceValue\n",
    "\n",
    "\n",
    "    def _find_average_score(sentenceValue) -> int:\n",
    "        \"\"\"\n",
    "        Find the average score from the sentence value dictionary\n",
    "        :rtype: int\n",
    "        \"\"\"\n",
    "        sumValues = 0\n",
    "        for entry in sentenceValue:\n",
    "            sumValues += sentenceValue[entry]\n",
    "\n",
    "        # Average value of a sentence from original text\n",
    "        average = (sumValues / len(sentenceValue))\n",
    "\n",
    "        return average\n",
    "\n",
    "\n",
    "    def _generate_summary(sentences, sentenceValue, threshold):\n",
    "        sentence_count = 0\n",
    "        summary = ''\n",
    "\n",
    "        for sentence in sentences:\n",
    "            if sentence[:10] in sentenceValue and sentenceValue[sentence[:10]] >= (threshold):\n",
    "                summary += \" \" + sentence\n",
    "                sentence_count += 1\n",
    "\n",
    "        return summary\n",
    "\n",
    "\n",
    "    def run_summarization(text):\n",
    "        # 1 Create the word frequency table\n",
    "        freq_table = _create_frequency_table(text)\n",
    "\n",
    "        '''\n",
    "        We already have a sentence tokenizer, so we just need \n",
    "        to run the sent_tokenize() method to create the array of sentences.\n",
    "        '''\n",
    "\n",
    "        # 2 Tokenize the sentences\n",
    "        sentences = sent_tokenize(text)\n",
    "\n",
    "        # 3 Important Algorithm: score the sentences\n",
    "        sentence_scores = _score_sentences(sentences, freq_table)\n",
    "\n",
    "        # 4 Find the threshold\n",
    "        threshold = _find_average_score(sentence_scores)\n",
    "\n",
    "        # 5 Important Algorithm: Generate the summary\n",
    "        summary = _generate_summary(sentences, sentence_scores, 1.1 * threshold)\n",
    "\n",
    "        return summary\n",
    "\n",
    "\n",
    "    if __name__ == '__main__':\n",
    "        summary_tldk = run_summarization(raw_text)"
   ]
  },
  {
   "cell_type": "markdown",
   "metadata": {},
   "source": [
    "### Summary w. gensim"
   ]
  },
  {
   "cell_type": "code",
   "execution_count": 98,
   "metadata": {},
   "outputs": [
    {
     "name": "stdout",
     "output_type": "stream",
     "text": [
      "A woman who says she is “Victim-1” in the New York indictment against deceased sex offender Jeffrey Epstein filed suit against the executors of his estate Wednesday, saying he abused her for three years beginning when she was a 14-year-old girl struggling to find a way to help her family pay rent.\n",
      "The suit, filed in federal court in Manhattan, offers new details about Epstein’s interactions with Victim-1, including specifics of the alleged crimes, and how her personal situation made her an easier target.\n",
      "Around that time, an older girl brought her to Epstein’s mansion on Manhattan’s Upper East Side, where he would pay her hundreds of dollars for massages that gradually escalated into sex acts with Epstein and others, according to the suit.\n"
     ]
    }
   ],
   "source": [
    "print(summary_gensim)"
   ]
  },
  {
   "cell_type": "markdown",
   "metadata": {},
   "source": [
    "### summary w. tldk"
   ]
  },
  {
   "cell_type": "code",
   "execution_count": 99,
   "metadata": {},
   "outputs": [
    {
     "name": "stdout",
     "output_type": "stream",
     "text": [
      " His accusers have focused, in particular, on Ghislaine Maxwell, Epstein’s longtime associate, and other members of his staff. [Epstein’s accusers call her his protector and procurer. A number of other alleged victims of Epstein’s abuse are suing or plan to sue Epstein’s estate, which is valued at more than $577 million. He paid the girls hundreds of dollars for each visit, his victims have said. About a month after his arrest, Epstein was found dead in his cell at the Metropolitan Correctional Center in Lower Manhattan. Epstein’s lawyers have not accepted that finding, saying they are conducting their own investigation. Before he died, Epstein had pleaded not guilty to the sex trafficking charges.\n"
     ]
    }
   ],
   "source": [
    "print(summary_tldk)"
   ]
  },
  {
   "cell_type": "markdown",
   "metadata": {},
   "source": [
    "## Google translate"
   ]
  },
  {
   "cell_type": "code",
   "execution_count": 100,
   "metadata": {},
   "outputs": [],
   "source": [
    "from googletrans import Translator\n",
    "\n",
    "translator = Translator()\n",
    "trans_gensim = translator.translate(summary_gensim, dest='ko').text\n",
    "trans_tldk = translator.translate(summary_tldk, dest = 'ko').text"
   ]
  },
  {
   "cell_type": "code",
   "execution_count": 101,
   "metadata": {},
   "outputs": [
    {
     "name": "stdout",
     "output_type": "stream",
     "text": [
      "그녀는 14 세 소녀 때 그는 3 년부터 그녀를 학대 말, 그녀는 \"피해자-1\"사망 한 성범죄자 제프리 엡스타인에 대한 뉴욕 기소에 수요일 그의 재산의 집행에 대해 소송을 제기 말한다 여자 그녀의 가족 지불 임대료를 도울 수있는 방법을 찾기 위해 애 쓰고.\n",
      "맨하탄 연방 법원에 제기 된이 소송 혐의 범죄의 세부 사항을 포함하여 피해자-1 엡스타인의 상호 작용에 대한 새로운 정보를 제공하고, 그녀의 개인 상황은 그녀의 쉬운 표적 만든 방법에 대해 설명합니다.\n",
      "그 무렵, 이전 소녀는 소송에 따르면, 그는 점차 엡스타인과 다른 사람과의 성행위에 에스컬레이션 마사지에 대한 달러의 그녀의 수백을 지불 할 것 맨해튼의 어퍼 이스트 사이드에 엡스타인의 저택에 그녀를 가져왔다.\n"
     ]
    }
   ],
   "source": [
    "print(trans_gensim)"
   ]
  },
  {
   "cell_type": "code",
   "execution_count": 102,
   "metadata": {},
   "outputs": [
    {
     "name": "stdout",
     "output_type": "stream",
     "text": [
      "그의 고소는 기즐 레인 맥스웰, 엡스타인의 오랜 동료, 그의 직원의 다른 구성원에 특히 초점을 맞추고있다. [엡스타인의 고소 그녀는 자신의 보호와 획득자 호출합니다. 엡스타인의 학대의 다른 혐의 희생자의 수는 고소 또는 이상의 $ (577) 백만 가치가 엡스타인의 재산을 고소 할 계획을하고 있습니다. 그는 각 방문에 대한 달러의 소녀 수백 지불, 피해자는 말했다. 체포 후 약 한달, 엡스타인은 맨하탄에있는 메트로폴리탄 교정 센터에서 자신의 셀에서 죽은 채 발견되었다. 엡스타인의 변호사들은 자신의 조사를 실시하고 말하고, 그 연구 결과를 인정하지 않았습니다. 그가 죽기 전에 엡스타인은 성매매 혐의에 무죄를 주장했다.\n"
     ]
    }
   ],
   "source": [
    "print(trans_tldk)"
   ]
  },
  {
   "cell_type": "markdown",
   "metadata": {},
   "source": [
    "## Papago translate\n",
    "\n",
    "#### trans_gensim\n",
    "미국이 이란과 연계한 사우디 석유산업에 대한 파업으로 긴장이 고조되고 있고, 사우디아라비아가 테러에 사용된 이란제 무기의 잔재를 제시하면서 트럼프 대통령이 이란에 대한 제재를 대폭 강화하라고 지시했다고 19일 밝혔다.\n",
    "마이크 폼페오 미 국무장관이 12일 사우디아라비아에 도착해 사우디의 주요 석유시설 2곳에 대한 토요일 파업을 '전쟁 행위'라고 규정한 데 따른 것이다. 한편 이란은 미국에 대해 어떠한 공격에도 광범위하게 보복할 것이라고 경고했다고 이란 언론이 보도했다.\n",
    "이번 방문에서 모하메드 빈 살만 왕세자와 만날 예정인 폼페오는 사우디에 도착하기 직전 기자들에게 이번 테러에 사용된 무기체계가 후티스의 무기고에 있지 않다는 것을 정보계가 \"높은 신뢰\"를 갖고 있다고 말했다.\n",
    "대변인 콜. 투르키 알 말키는 기자회견에서 18대의 무인항공기가 사우디아라비아 동부 아브카이크 유전공장을 공격했다고 밝혔다.\n",
    "\n",
    "#### trans_tldk\n",
    "\"나는 방금 재무장관에게 이란에 대한 제재를 실질적으로 증가시키라고 지시했다!\" 트럼프는 트위터에 정교하게 글을 썼다. 그러나 미국 관리들은 반군들의 개입에 의문을 제기하며 반군들의 공격이 너무 정교해서 그들이 감행할 수 없을 것이라고 말했다. 그는 \"이번 공격은 이란의 공격이었다\"고 말했다. 그는 크루즈 미사일 중 3발이 떨어졌다고 말했다. 그러나 트럼프는 이번 테러에 대한 조사가 진행 중인 이란을 직접 비난하지는 않았으며 \"전쟁을 피하고 싶다\"고 말했다. 이란 언론에 따르면 그는 \"예멘 국가가 분쟁의 근원은 아니었지만 사우디 아라비아, UAE, 미국인들이었다\"고 말했다. 같은 각료회의에서 이란 국방 장관 브리그. 아미르 하타미 장군은 이란이 석유 공격에 어떠한 역할도 하지 않았다고 부인했다. 파힘은 이스탄불에서, 셸은 두바이에서 보고했다."
   ]
  },
  {
   "cell_type": "code",
   "execution_count": null,
   "metadata": {},
   "outputs": [],
   "source": []
  },
  {
   "cell_type": "code",
   "execution_count": null,
   "metadata": {},
   "outputs": [],
   "source": []
  },
  {
   "cell_type": "code",
   "execution_count": null,
   "metadata": {},
   "outputs": [],
   "source": []
  },
  {
   "cell_type": "code",
   "execution_count": null,
   "metadata": {},
   "outputs": [],
   "source": []
  },
  {
   "cell_type": "code",
   "execution_count": null,
   "metadata": {},
   "outputs": [],
   "source": []
  },
  {
   "cell_type": "code",
   "execution_count": null,
   "metadata": {},
   "outputs": [],
   "source": []
  }
 ],
 "metadata": {
  "kernelspec": {
   "display_name": "Python [conda env:azmo_dev] *",
   "language": "python",
   "name": "conda-env-azmo_dev-py"
  },
  "language_info": {
   "codemirror_mode": {
    "name": "ipython",
    "version": 3
   },
   "file_extension": ".py",
   "mimetype": "text/x-python",
   "name": "python",
   "nbconvert_exporter": "python",
   "pygments_lexer": "ipython3",
   "version": "3.6.8"
  }
 },
 "nbformat": 4,
 "nbformat_minor": 2
}
