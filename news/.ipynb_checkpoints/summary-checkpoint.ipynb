{
 "cells": [
  {
   "cell_type": "markdown",
   "metadata": {},
   "source": [
    "## 세계 주요 일간지\n",
    "\n",
    "### 미국/USA\n",
    "- [뉴욕타임즈/The Newyork Times](https://www.nytimes.com/)\n",
    "- [워싱턴포스트/The Washington Post](https://www.washingtonpost.com/)\n",
    "- [월스트리트저널/The Wallstreet Journal](https://www.wsj.com/)\n",
    "- [유에스에이투데이/USA Today](https://www.usatoday.com/)\n",
    "\n",
    "### 일본/日本\n",
    "- [요미우리신문/読売新聞](http://www.yomiuri.co.jp)\n",
    "- [아사히신문/朝日新聞](http://www.asahi.com)\n",
    "- [마이니치신문/毎日新聞](http://www.mainichi.co.jp)\n",
    "- [니혼케이자이신문/日本経済新聞](http://www.nikkei.co.jp)\n",
    "- [산케이신문/産経新聞](http://www.sankei.co.jp)\n",
    "\n",
    "### 프랑스/français\n",
    "- [르몽드/Le Monde](https://www.lemonde.fr/)\n",
    "- 르 피가로\n",
    "- 리베라시옹\n",
    "\n",
    "### 영국/UK\n",
    "- 더 타임즈\n",
    "- 가디언\n",
    "- 인디펜던트\n",
    "- 데일리텔레그래프\n",
    "- 더썬\n",
    "\n",
    "### 독일/Deutschland\n",
    "- [쥐트도이체 차이퉁/Süddeutsche Zeitung](http://www.sueddeutsche.de)\n",
    "- [프랑크푸르터 알게마이네 차이퉁/Frankfurter Allgemeine Zeitiung(FAZ)](http://www.faz.net/aktuell/)\n",
    "- [디 벨트/Die Welt](https://www.welt.de)"
   ]
  },
  {
   "cell_type": "code",
   "execution_count": 1,
   "metadata": {},
   "outputs": [],
   "source": [
    "# Test w. WP\n",
    "import requests\n",
    "from bs4 import BeautifulSoup\n",
    "from selenium import webdriver\n",
    "import openpyxl\n",
    "from time import sleep\n",
    "import ssl\n",
    "ssl._create_default_https_context = ssl._create_unverified_context"
   ]
  },
  {
   "cell_type": "code",
   "execution_count": 31,
   "metadata": {},
   "outputs": [],
   "source": [
    "url = 'https://www.washingtonpost.com/world/middle_east/iran-warns-us-of-broad-retaliation-in-case-of-any-attack/2019/09/18/35a1275c-d99f-11e9-a1a5-162b8a9c9ca2_story.html'\n",
    "driver = webdriver.Chrome(\"/Users/azmosady/Desktop/chromedriver\")\n",
    "driver.get(url)\n",
    "sleep(3)\n",
    "contents = driver.find_elements_by_css_selector(\"article.paywall > p\")\n",
    "raw_text = ''\n",
    "for content in contents:\n",
    "    if content.text != 'Read more':\n",
    "        raw_text += content.text+'\\n'\n",
    "    else:\n",
    "        break\n",
    "driver.close()\n",
    "\n",
    "# headline h1 a, h2 a,\n",
    "# 기사 본문 article.paywall > p\n"
   ]
  },
  {
   "cell_type": "code",
   "execution_count": 32,
   "metadata": {},
   "outputs": [
    {
     "name": "stdout",
     "output_type": "stream",
     "text": [
      "Secretary of State Mike Pompeo on Wednesday decried the weekend attacks on the Saudi oil industry as an “act of war” as President Trump ordered a substantial increase in sanctions against Iran, which Washington has linked to the strikes.\n",
      "Amid the escalating tensions in the region, Saudi Arabia on Wednesday presented remnants of what it said were Iranian-made weapons used in the attacks on two key oil facilities. Meanwhile, Iran warned the United States that it would broadly retaliate against any attacks on it, Iranian news agencies reported.\n",
      "“I have just instructed the Secretary of the Treasury to substantially increase Sanctions on the country of Iran!” Trump wrote on Twitter, without elaboration. It was not immediately clear what the increase in sanctions might entail.\n",
      "The comment came as Pompeo arrived in Saudi Arabia, where he is set to meet with Crown Prince Mohammed bin Salman.\n",
      "Iran’s warning, sent via the Swiss Embassy in Tehran, which handles U.S. affairs in the country, condemned earlier remarks by Pompeo and other officials linking Iran to the attacks.\n",
      "“Iran’s response will be prompt and strong, and it may include broader areas than the source of attacks,” the Mehr News Agency reported the official note as saying.\n",
      "Iran’s Fars News Agency said any response would be “rapid and crushing” and would target “more extensive areas than the origin of the attack.” There have long been fears that Iranian proxy forces in Lebanon, Syria, Iraq and elsewhere might attack U.S. forces in the region.\n",
      "[Saudi Arabia says oil output will return to pre-attack levels in weeks]\n",
      "Yemeni Houthi rebels asserted responsibility for Saturday’s attacks, which temporarily cut Saudi Arabia’s oil production in half and sent prices spiking worldwide. U.S. officials, however, have cast doubt on the rebels’ involvement, saying the attacks were too sophisticated for them to have carried out.\n",
      "Pompeo told reporters shortly before arriving in Saudi Arabia that the intelligence community had “high confidence” that the weapons systems used in the attacks were not in the Houthis’ arsenal.\n",
      "“This was an Iranian attack,” he said. “It didn’t come from the Houthis.”\n",
      "Shortly after Trump’s sanctions announcement on Wednesday, a Saudi military spokesman in Riyadh, the Saudi capital, presented what he said was evidence of Iran’s culpability, including remnants of drone and cruise missiles that he said were Iranian-made and were used in the attacks. \n",
      "The spokesman, Col. Turki al-Malki, said in the news conference that 18 unmanned aerial vehicles had attacked an oil processing plant in Abqaiq, in eastern Saudi Arabia. Seven cruise missiles, he added, were fired at a facility in Khurais, the site of one of the kingdom’s largest oil fields. Three of the cruise missiles fell short, he said. \n",
      "The attacks were “unquestionably sponsored by Iran” and had not originated in Yemen, Malki said, basing the assertion in part on the purported range of the weapons recovered, which he said could not have traveled from Houthi-held territory. But Saudi officials had not yet determined from where the weapons were launched. \n",
      " Malki did not say how the launch site would be located but said there would be “accountability” when it was. \n",
      "Trump has not blamed Iran directly for the attacks, however, pending an investigation of the incident, and has said he would “like to avoid” a war.\n",
      "The chairman of the Joint Chiefs of Staff, Gen. Joseph F. Dunford Jr., told reporters in London that Iran or its allies were likely to have been involved. He said U.S. military officials are reviewing how they could “help the Saudis defend themselves.”\n",
      "Investigators from the United States as well as France have been dispatched to Abqaiq and Khurais to determine the origins of the projectiles that slammed into the oil facilities \n",
      "[Trump once ordered attack on Iran, but called it off with minutes to spare]\n",
      "The attacks on Saudi oil infrastructure were the most serious in decades and far outstripped any past attacks by the Houthis on Saudi Arabia. \n",
      "The rebels have been battling a Saudi-led coalition backing the internationally recognized government in Yemen since 2015. The conflict has caused the world’s most severe humanitarian crisis.\n",
      "In remarks to his cabinet, Iranian President Hassan Rouhani said the Houthi rebels were only responding to years of attacks and airstrikes.\n",
      "“The Yemeni nation was not the source of the conflict, but it was Saudi Arabia, the UAE, the Americans,” he said, according to Iranian media. \n",
      "At the same cabinet meeting, Iran’s defense minister, Brig. Gen. Amir Hatami, denied that Tehran had any role in the oil attacks. He noted that “the Yemenis carried out a similar operation around two years ago.”\n",
      "The tensions in the region center on a rivalry between Saudi Arabia and regional heavyweight Iran, especially in the Persian Gulf, a key international waterway for oil shipments. The United Arab Emirates is allied with the Saudis in that confrontation. \n",
      "The United States has said Iran is behind attacks on ships moving through those waters over the summer — a charge that Iran denies.\n",
      "Fahim reported from Istanbul, and Schemm from Dubai. Carol Morello in Washington contributed to this report.\n",
      " Read more \n",
      " Pompeo making spur-of-the-moment trip to Mideast as Iran rules out talks \n",
      " Billions spent on U.S. weapons didn’t protect Saudi Arabia’s most critical oil sites from a crippling attack \n",
      " Today’s coverage from Post correspondents around the world \n",
      " Like Washington Post World on Facebook and stay updated on foreign news \n",
      "\n"
     ]
    }
   ],
   "source": [
    "print(raw_text)"
   ]
  },
  {
   "cell_type": "code",
   "execution_count": 41,
   "metadata": {},
   "outputs": [],
   "source": [
    "# https://anpigon.github.io/blog/dclick/@anpigon/-textrank-summariser-1540351206980/\n",
    "from gensim.summarization.summarizer import summarize\n",
    "summary_gensim = summarize(raw_text, ratio=0.1)"
   ]
  },
  {
   "cell_type": "code",
   "execution_count": 42,
   "metadata": {},
   "outputs": [],
   "source": [
    "# test message\n",
    "#raw_text = 'Those Who Are Resilient Stay In The Game Longer\\n“On the mountains of truth you can never climb in vain: either you will reach a point higher up today, or you will be training your powers so that you will be able to climb higher tomorrow.” — Friedrich Nietzsche\\nChallenges and setbacks are not meant to defeat you, but promote you. However, I realise after many years of defeats, it can crush your spirit and it is easier to give up than risk further setbacks and disappointments. Have you experienced this before? To be honest, I don’t have the answers. I can’t tell you what the right course of action is; only you will know. However, it’s important not to be discouraged by failure when pursuing a goal or a dream, since failure itself means different things to different people. To a person with a Fixed Mindset failure is a blow to their self-esteem, yet to a person with a Growth Mindset, it’s an opportunity to improve and find new ways to overcome their obstacles. Same failure, yet different responses. Who is right and who is wrong? Neither. Each person has a different mindset that decides their outcome. Those who are resilient stay in the game longer and draw on their inner means to succeed.\\nI’ve coached many clients who gave up after many years toiling away at their respective goal or dream. It was at that point their biggest breakthrough came. Perhaps all those years of perseverance finally paid off. It was the 19th Century’s minister Henry Ward Beecher who once said: “One’s best success comes after their greatest disappointments.” No one knows what the future holds, so your only guide is whether you can endure repeated defeats and disappointments and still pursue your dream. Consider the advice from the American academic and psychologist Angela Duckworth who writes in Grit: The Power of Passion and Perseverance: “Many of us, it seems, quit what we start far too early and far too often. Even more than the effort a gritty person puts in on a single day, what matters is that they wake up the next day, and the next, ready to get on that treadmill and keep going.”\\nI know one thing for certain: don’t settle for less than what you’re capable of, but strive for something bigger. Some of you reading this might identify with this message because it resonates with you on a deeper level. For others, at the end of their tether the message might be nothing more than a trivial pep talk. What I wish to convey irrespective of where you are in your journey is: NEVER settle for less. If you settle for less, you will receive less than you deserve and convince yourself you are justified to receive it.\\n“Two people on a precipice over Yosemite Valley” by Nathan Shipps on Unsplash\\nDevelop A Powerful Vision Of What You Want\\n“Your problem is to bridge the gap which exists between where you are now and the goal you intend to reach.” — Earl Nightingale\\nI recall a passage my father often used growing up in 1990s: “Don’t tell me your problems unless you’ve spent weeks trying to solve them yourself.” That advice has echoed in my mind for decades and became my motivator. Don’t leave it to other people or outside circumstances to motivate you because you will be let down every time. It must come from within you. Gnaw away at your problems until you solve them or find a solution. Problems are not stop signs, they are advising you that more work is required to overcome them. Most times, problems help you gain a skill or develop the resources to succeed later. So embrace your challenges and develop the grit to push past them instead of retreat in resignation. Where are you settling in your life right now? Could you be you playing for bigger stakes than you are? Are you willing to play bigger even if it means repeated failures and setbacks? You should ask yourself these questions to decide whether you’re willing to put yourself on the line or settle for less. And that’s fine if you’re content to receive less, as long as you’re not regretful later.If you have not achieved the success you deserve and are considering giving up, will you regret it in a few years or decades from now? Only you can answer that, but you should carve out time to discover your motivation for pursuing your goals. It’s a fact, if you don’t know what you want you’ll get what life hands you and it may not be in your best interest, affirms author Larry Weidel: “Winners know that if you don’t figure out what you want, you’ll get whatever life hands you.” The key is to develop a powerful vision of what you want and hold that image in your mind. Nurture it daily and give it life by taking purposeful action towards it.\\nVision + desire + dedication + patience + daily action leads to astonishing success. Are you willing to commit to this way of life or jump ship at the first sign of failure? I’m amused when I read questions written by millennials on Quora who ask how they can become rich and famous or the next Elon Musk. Success is a fickle and long game with highs and lows. Similarly, there are no assurances even if you’re an overnight sensation, to sustain it for long, particularly if you don’t have the mental and emotional means to endure it. This means you must rely on the one true constant in your favour: your personal development. The more you grow, the more you gain in terms of financial resources, status, success — simple. If you leave it to outside conditions to dictate your circumstances, you are rolling the dice on your future.So become intentional on what you want out of life. Commit to it. Nurture your dreams. Focus on your development and if you want to give up, know what’s involved before you take the plunge. Because I assure you, someone out there right now is working harder than you, reading more books, sleeping less and sacrificing all they have to realise their dreams and it may contest with yours. Don’t leave your dreams to chance.'"
   ]
  },
  {
   "cell_type": "code",
   "execution_count": 43,
   "metadata": {},
   "outputs": [],
   "source": [
    "# NLTK 이용한 text summarisation\n",
    "# https://becominghuman.ai/text-summarization-in-5-steps-using-nltk-65b21e352b65\n",
    "# Implementation from https://dev.to/davidisrawi/build-a-quick-summarizer-with-python-and-nltk\n",
    "\n",
    "from nltk.corpus import stopwords\n",
    "from nltk.stem import PorterStemmer\n",
    "from nltk.tokenize import word_tokenize, sent_tokenize\n",
    "\n",
    "text_str = raw_text\n",
    "\n",
    "\n",
    "def _create_frequency_table(text_string) -> dict:\n",
    "    \"\"\"\n",
    "    we create a dictionary for the word frequency table.\n",
    "    For this, we should only use the words that are not part of the stopWords array.\n",
    "    Removing stop words and making frequency table\n",
    "    Stemmer - an algorithm to bring words to its root word.\n",
    "    :rtype: dict\n",
    "    \"\"\"\n",
    "    stopWords = set(stopwords.words(\"english\"))\n",
    "    words = word_tokenize(text_string)\n",
    "    ps = PorterStemmer()\n",
    "\n",
    "    freqTable = dict()\n",
    "    for word in words:\n",
    "        word = ps.stem(word)\n",
    "        if word in stopWords:\n",
    "            continue\n",
    "        if word in freqTable:\n",
    "            freqTable[word] += 1\n",
    "        else:\n",
    "            freqTable[word] = 1\n",
    "\n",
    "    return freqTable\n",
    "\n",
    "\n",
    "def _score_sentences(sentences, freqTable) -> dict:\n",
    "    \"\"\"\n",
    "    score a sentence by its words\n",
    "    Basic algorithm: adding the frequency of every non-stop word in a sentence divided by total no of words in a sentence.\n",
    "    :rtype: dict\n",
    "    \"\"\"\n",
    "\n",
    "    sentenceValue = dict()\n",
    "\n",
    "    for sentence in sentences:\n",
    "        word_count_in_sentence = (len(word_tokenize(sentence)))\n",
    "        word_count_in_sentence_except_stop_words = 0\n",
    "        for wordValue in freqTable:\n",
    "            if wordValue in sentence.lower():\n",
    "                word_count_in_sentence_except_stop_words += 1\n",
    "                if sentence[:10] in sentenceValue:\n",
    "                    sentenceValue[sentence[:10]] += freqTable[wordValue]\n",
    "                else:\n",
    "                    sentenceValue[sentence[:10]] = freqTable[wordValue]\n",
    "\n",
    "        if sentence[:10] in sentenceValue:\n",
    "            sentenceValue[sentence[:10]] = sentenceValue[sentence[:10]] / word_count_in_sentence_except_stop_words\n",
    "\n",
    "        '''\n",
    "        Notice that a potential issue with our score algorithm is that long sentences will have an advantage over short sentences. \n",
    "        To solve this, we're dividing every sentence score by the number of words in the sentence.\n",
    "        \n",
    "        Note that here sentence[:10] is the first 10 character of any sentence, this is to save memory while saving keys of\n",
    "        the dictionary.\n",
    "        '''\n",
    "\n",
    "    return sentenceValue\n",
    "\n",
    "\n",
    "def _find_average_score(sentenceValue) -> int:\n",
    "    \"\"\"\n",
    "    Find the average score from the sentence value dictionary\n",
    "    :rtype: int\n",
    "    \"\"\"\n",
    "    sumValues = 0\n",
    "    for entry in sentenceValue:\n",
    "        sumValues += sentenceValue[entry]\n",
    "\n",
    "    # Average value of a sentence from original text\n",
    "    average = (sumValues / len(sentenceValue))\n",
    "\n",
    "    return average\n",
    "\n",
    "\n",
    "def _generate_summary(sentences, sentenceValue, threshold):\n",
    "    sentence_count = 0\n",
    "    summary = ''\n",
    "\n",
    "    for sentence in sentences:\n",
    "        if sentence[:10] in sentenceValue and sentenceValue[sentence[:10]] >= (threshold):\n",
    "            summary += \" \" + sentence\n",
    "            sentence_count += 1\n",
    "\n",
    "    return summary\n",
    "\n",
    "\n",
    "def run_summarization(text):\n",
    "    # 1 Create the word frequency table\n",
    "    freq_table = _create_frequency_table(text)\n",
    "\n",
    "    '''\n",
    "    We already have a sentence tokenizer, so we just need \n",
    "    to run the sent_tokenize() method to create the array of sentences.\n",
    "    '''\n",
    "\n",
    "    # 2 Tokenize the sentences\n",
    "    sentences = sent_tokenize(text)\n",
    "\n",
    "    # 3 Important Algorithm: score the sentences\n",
    "    sentence_scores = _score_sentences(sentences, freq_table)\n",
    "\n",
    "    # 4 Find the threshold\n",
    "    threshold = _find_average_score(sentence_scores)\n",
    "\n",
    "    # 5 Important Algorithm: Generate the summary\n",
    "    summary = _generate_summary(sentences, sentence_scores, 1.1 * threshold)\n",
    "\n",
    "    return summary\n",
    "\n",
    "\n",
    "if __name__ == '__main__':\n",
    "    summary_tldk = run_summarization(raw_text)"
   ]
  },
  {
   "cell_type": "markdown",
   "metadata": {},
   "source": [
    "### Summary w. gensim"
   ]
  },
  {
   "cell_type": "code",
   "execution_count": 44,
   "metadata": {},
   "outputs": [
    {
     "name": "stdout",
     "output_type": "stream",
     "text": [
      "Secretary of State Mike Pompeo on Wednesday decried the weekend attacks on the Saudi oil industry as an “act of war” as President Trump ordered a substantial increase in sanctions against Iran, which Washington has linked to the strikes.\n",
      "Amid the escalating tensions in the region, Saudi Arabia on Wednesday presented remnants of what it said were Iranian-made weapons used in the attacks on two key oil facilities.\n",
      "Meanwhile, Iran warned the United States that it would broadly retaliate against any attacks on it, Iranian news agencies reported.\n",
      "The spokesman, Col. Turki al-Malki, said in the news conference that 18 unmanned aerial vehicles had attacked an oil processing plant in Abqaiq, in eastern Saudi Arabia.\n"
     ]
    }
   ],
   "source": [
    "print(summary_gensim)"
   ]
  },
  {
   "cell_type": "markdown",
   "metadata": {},
   "source": [
    "### summary w. tldk"
   ]
  },
  {
   "cell_type": "code",
   "execution_count": 45,
   "metadata": {},
   "outputs": [
    {
     "name": "stdout",
     "output_type": "stream",
     "text": [
      " “I have just instructed the Secretary of the Treasury to substantially increase Sanctions on the country of Iran!” Trump wrote on Twitter, without elaboration. U.S. officials, however, have cast doubt on the rebels’ involvement, saying the attacks were too sophisticated for them to have carried out. “This was an Iranian attack,” he said. Three of the cruise missiles fell short, he said. Trump has not blamed Iran directly for the attacks, however, pending an investigation of the incident, and has said he would “like to avoid” a war. “The Yemeni nation was not the source of the conflict, but it was Saudi Arabia, the UAE, the Americans,” he said, according to Iranian media. At the same cabinet meeting, Iran’s defense minister, Brig. Gen. Amir Hatami, denied that Tehran had any role in the oil attacks. Fahim reported from Istanbul, and Schemm from Dubai.\n"
     ]
    }
   ],
   "source": [
    "print(summary_tldk)"
   ]
  },
  {
   "cell_type": "markdown",
   "metadata": {},
   "source": [
    "## Google translate"
   ]
  },
  {
   "cell_type": "code",
   "execution_count": 46,
   "metadata": {},
   "outputs": [],
   "source": [
    "from googletrans import Translator\n",
    "\n",
    "translator = Translator()\n",
    "trans_gensim = translator.translate(summary_gensim, dest='ko').text\n",
    "trans_tldk = translator.translate(summary_tldk, dest = 'ko').text"
   ]
  },
  {
   "cell_type": "code",
   "execution_count": 47,
   "metadata": {},
   "outputs": [
    {
     "name": "stdout",
     "output_type": "stream",
     "text": [
      "수요일 국무 장관의 마이크 폼페오 대통령 트럼프는 미국이 파업에 연결 한이란에 대한 제재에 상당한 증가를, 주문과 같이 \"전쟁 행위\"로 사우디 석유 산업에 주말 공격을 비난.\n",
      "이 지역에서 확대 긴장 속에서, 수요일 사우디 아라비아는 두 가지 주요 석유 시설에 대한 공격에 사용되는이란 제 무기했다 말의 잔재를 발표했다.\n",
      "한편,이란이 광범위하게 그것의 모든 공격에 대해 보복 할 것이라고 미국을 경고,이란 통신사가 보도했다.\n",
      "대변인, 대령 투르 키 알 - 말키는 18 무인 항공기 동부 사우디 아라비아 아브 카이 크의 석유 가공 공장을 공격했다고 기자 회견에서 말했다.\n"
     ]
    }
   ],
   "source": [
    "print(trans_gensim)"
   ]
  },
  {
   "cell_type": "code",
   "execution_count": 48,
   "metadata": {},
   "outputs": [
    {
     "name": "stdout",
     "output_type": "stream",
     "text": [
      "\"난 그냥 실질적으로이란의 국가에 제재를 높이기 위해 재무 장관을 지시했다!\"트럼프는 정교하지 않고, 트위터에 썼다. 미국 관리들은 그러나, 그들이 수행 한하는 공격이 너무 정교했다 말하고, 반군 '참여에 의문을 제기했다. \"이것은이란의 공격이었다\"고 말했다. 크루즈 미사일의 세 가지가 부족했다, 그는 말했다. 트럼프는 사건의 조사를 보류 그러나, 공격을 직접적으로이란을 비난하지 않은, 그는 전쟁 \"을 피하기 위해 같은 것\"이라고 말했다. \"예멘 국가가 갈등의 원천 아니었지만, 사우디 아라비아, 아랍 에미리트 연방, 미국인이었다\"고이란 언론에 따르면 말했다. 같은 내각 회의에서이란의 국방 장관, 영창. 창 아미르 하타미는이란이 석유 공격에서 어떤 역할을 한 것으로 부인했다. 파힘은 이스탄불에서보고, 두바이에서 Schemm.\n"
     ]
    }
   ],
   "source": [
    "print(trans_tldk)"
   ]
  },
  {
   "cell_type": "markdown",
   "metadata": {},
   "source": [
    "## Papago translate\n",
    "\n",
    "#### trans_gensim\n",
    "미국이 이란과 연계한 사우디 석유산업에 대한 파업으로 긴장이 고조되고 있고, 사우디아라비아가 테러에 사용된 이란제 무기의 잔재를 제시하면서 트럼프 대통령이 이란에 대한 제재를 대폭 강화하라고 지시했다고 19일 밝혔다.\n",
    "마이크 폼페오 미 국무장관이 12일 사우디아라비아에 도착해 사우디의 주요 석유시설 2곳에 대한 토요일 파업을 '전쟁 행위'라고 규정한 데 따른 것이다. 한편 이란은 미국에 대해 어떠한 공격에도 광범위하게 보복할 것이라고 경고했다고 이란 언론이 보도했다.\n",
    "이번 방문에서 모하메드 빈 살만 왕세자와 만날 예정인 폼페오는 사우디에 도착하기 직전 기자들에게 이번 테러에 사용된 무기체계가 후티스의 무기고에 있지 않다는 것을 정보계가 \"높은 신뢰\"를 갖고 있다고 말했다.\n",
    "대변인 콜. 투르키 알 말키는 기자회견에서 18대의 무인항공기가 사우디아라비아 동부 아브카이크 유전공장을 공격했다고 밝혔다.\n",
    "\n",
    "#### trans_tldk\n",
    "\"나는 방금 재무장관에게 이란에 대한 제재를 실질적으로 증가시키라고 지시했다!\" 트럼프는 트위터에 정교하게 글을 썼다. 그러나 미국 관리들은 반군들의 개입에 의문을 제기하며 반군들의 공격이 너무 정교해서 그들이 감행할 수 없을 것이라고 말했다. 그는 \"이번 공격은 이란의 공격이었다\"고 말했다. 그는 크루즈 미사일 중 3발이 떨어졌다고 말했다. 그러나 트럼프는 이번 테러에 대한 조사가 진행 중인 이란을 직접 비난하지는 않았으며 \"전쟁을 피하고 싶다\"고 말했다. 이란 언론에 따르면 그는 \"예멘 국가가 분쟁의 근원은 아니었지만 사우디 아라비아, UAE, 미국인들이었다\"고 말했다. 같은 각료회의에서 이란 국방 장관 브리그. 아미르 하타미 장군은 이란이 석유 공격에 어떠한 역할도 하지 않았다고 부인했다. 파힘은 이스탄불에서, 셸은 두바이에서 보고했다."
   ]
  },
  {
   "cell_type": "code",
   "execution_count": null,
   "metadata": {},
   "outputs": [],
   "source": []
  }
 ],
 "metadata": {
  "kernelspec": {
   "display_name": "Python [conda env:azmo_dev] *",
   "language": "python",
   "name": "conda-env-azmo_dev-py"
  },
  "language_info": {
   "codemirror_mode": {
    "name": "ipython",
    "version": 3
   },
   "file_extension": ".py",
   "mimetype": "text/x-python",
   "name": "python",
   "nbconvert_exporter": "python",
   "pygments_lexer": "ipython3",
   "version": "3.6.8"
  }
 },
 "nbformat": 4,
 "nbformat_minor": 2
}
